{
 "cells": [
  {
   "cell_type": "code",
   "execution_count": 1,
   "metadata": {
    "ExecuteTime": {
     "end_time": "2020-11-24T12:42:40.856137Z",
     "start_time": "2020-11-24T12:42:40.850153Z"
    }
   },
   "outputs": [],
   "source": [
    "from __future__ import unicode_literals, print_function, division\n",
    "from io import open\n",
    "import unicodedata\n",
    "import string\n",
    "import re\n",
    "import random\n",
    "\n",
    "import torch\n",
    "import torch.nn as nn\n",
    "from torch import optim\n",
    "import torch.nn.functional as F\n",
    "\n",
    "import numpy as np\n",
    "import jupyter\n",
    "import matplotlib\n",
    "import matplotlib.pyplot as plt\n",
    "import nltk\n",
    "from nltk.translate.bleu_score import sentence_bleu\n",
    "device = torch.device(\"cuda\" if torch.cuda.is_available() else \"cpu\")"
   ]
  },
  {
   "cell_type": "code",
   "execution_count": 2,
   "metadata": {
    "ExecuteTime": {
     "end_time": "2020-11-24T07:29:31.699023Z",
     "start_time": "2020-11-24T07:29:31.692039Z"
    }
   },
   "outputs": [],
   "source": [
    "SOS_token = 0\n",
    "EOS_token = 1\n",
    "\n",
    "\n",
    "class Lang:\n",
    "    def __init__(self, name):\n",
    "        self.name = name\n",
    "        self.word2index = {}\n",
    "        self.word2count = {}\n",
    "        self.index2word = {0: \"SOS\", 1: \"EOS\"}\n",
    "        self.n_words = 2  # Count SOS and EOS\n",
    "\n",
    "    def addSentence(self, sentence):\n",
    "        for word in sentence.split(' '):\n",
    "            self.addWord(word)\n",
    "\n",
    "    def addWord(self, word):\n",
    "        if word not in self.word2index:\n",
    "            self.word2index[word] = self.n_words\n",
    "            self.word2count[word] = 1\n",
    "            self.index2word[self.n_words] = word\n",
    "            self.n_words += 1\n",
    "        else:\n",
    "            self.word2count[word] += 1"
   ]
  },
  {
   "cell_type": "code",
   "execution_count": 3,
   "metadata": {
    "ExecuteTime": {
     "end_time": "2020-11-24T07:29:32.442071Z",
     "start_time": "2020-11-24T07:29:32.436090Z"
    }
   },
   "outputs": [],
   "source": [
    "def unicodeToAscii(s):\n",
    "    return ''.join(\n",
    "    c for c in unicodedata.normalize('NFD', s)\n",
    "    if unicodedata.category(c) != 'Mn'\n",
    "    )\n",
    "\n",
    "\n",
    "# 其中normalizeString函数中的正则表达式需对应更改，否则会将中文单词替换成空格\n",
    "def normalizeString(s):\n",
    "    #变成小写，去掉前后空格\n",
    "    s = s.lower().strip()\n",
    "    if ' ' not in s:\n",
    "        s = list(s)\n",
    "        s = ' '.join(s)\n",
    "    s = unicodeToAscii(s)  #将unicode变成ascii\n",
    "    s = re.sub(r\"([.。!！?？])\", \"\", s)\n",
    "    return s\n"
   ]
  },
  {
   "cell_type": "code",
   "execution_count": 4,
   "metadata": {
    "ExecuteTime": {
     "end_time": "2020-11-24T07:29:33.024843Z",
     "start_time": "2020-11-24T07:29:33.018859Z"
    }
   },
   "outputs": [],
   "source": [
    "def readLangs(lang1, lang2, reverse=False):\n",
    "    print(\"Reading lines...\")\n",
    "\n",
    "    # Read the file and split into lines\n",
    "    file_path = \"./data/eng-cmn.txt\"\n",
    "    with open(file_path, encoding='utf-8') as file:\n",
    "        lines = file.readlines()\n",
    "    \n",
    "\n",
    "    # Split every line into pairs and normalize\n",
    "    pairs = [[normalizeString(s) for s in l.split('\\t')[:2]] for l in lines]\n",
    "\n",
    "\n",
    "    # Reverse pairs, make Lang instances\n",
    "    if reverse:\n",
    "        pairs = [list(reversed(p)) for p in pairs]\n",
    "        input_lang = Lang(lang2)\n",
    "        output_lang = Lang(lang1)\n",
    "    else:\n",
    "        input_lang = Lang(lang1)\n",
    "        output_lang = Lang(lang2)\n",
    "\n",
    "    return input_lang, output_lang, pairs"
   ]
  },
  {
   "cell_type": "code",
   "execution_count": 5,
   "metadata": {
    "ExecuteTime": {
     "end_time": "2020-11-24T07:29:33.645026Z",
     "start_time": "2020-11-24T07:29:33.640039Z"
    }
   },
   "outputs": [],
   "source": [
    "MAX_LENGTH = 10\n",
    "\n",
    "eng_prefixes = (\n",
    "    \"i am \", \"i m \",\n",
    "    \"he is\", \"he s \",\n",
    "    \"she is\", \"she s \",\n",
    "    \"you are\", \"you re \",\n",
    "    \"we are\", \"we re \",\n",
    "    \"they are\", \"they re \"\n",
    ")\n",
    "\n",
    "\n",
    "def filterPair(p):\n",
    "    return len(p[0].split(' ')) < MAX_LENGTH and \\\n",
    "        len(p[1].split(' ')) < MAX_LENGTH and \\\n",
    "        p[1].startswith(eng_prefixes)\n",
    "\n",
    "\n",
    "def filterPairs(pairs):\n",
    "    return [pair for pair in pairs if filterPair(pair)]"
   ]
  },
  {
   "cell_type": "code",
   "execution_count": 6,
   "metadata": {
    "ExecuteTime": {
     "end_time": "2020-11-24T07:29:34.159542Z",
     "start_time": "2020-11-24T07:29:34.150559Z"
    }
   },
   "outputs": [],
   "source": [
    "def prepareData(lang1, lang2, reverse=False):\n",
    "    input_lang, output_lang, pairs = readLangs(lang1, lang2, reverse)\n",
    "    print(\"Read %s sentence pairs\" % len(pairs))\n",
    "    pairs = filterPairs(pairs)\n",
    "    print(\"Trimmed to %s sentence pairs\" % len(pairs))\n",
    "    print(\"Counting words...\")\n",
    "    for pair in pairs:\n",
    "        input_lang.addSentence(pair[0])\n",
    "        output_lang.addSentence(pair[1])\n",
    "    print(\"Counted words:\")\n",
    "    print(input_lang.name, input_lang.n_words)\n",
    "    print(output_lang.name, output_lang.n_words)\n",
    "    return input_lang, output_lang, pairs\n",
    "\n"
   ]
  },
  {
   "cell_type": "code",
   "execution_count": 7,
   "metadata": {
    "ExecuteTime": {
     "end_time": "2020-11-24T07:29:35.225230Z",
     "start_time": "2020-11-24T07:29:34.726555Z"
    }
   },
   "outputs": [
    {
     "name": "stdout",
     "output_type": "stream",
     "text": [
      "Reading lines...\n",
      "Read 24026 sentence pairs\n",
      "Trimmed to 459 sentence pairs\n",
      "Counting words...\n",
      "Counted words:\n",
      "cmn 684\n",
      "eng 560\n",
      "['我 肯 定 他 会 成 功 的 ', 'i am sure that he will succeed']\n"
     ]
    }
   ],
   "source": [
    "input_lang, output_lang, pairs = prepareData('eng', 'cmn', True)\n",
    "print(random.choice(pairs))\n"
   ]
  },
  {
   "cell_type": "code",
   "execution_count": 8,
   "metadata": {
    "ExecuteTime": {
     "end_time": "2020-11-24T07:29:36.198059Z",
     "start_time": "2020-11-24T07:29:36.190080Z"
    }
   },
   "outputs": [
    {
     "data": {
      "text/plain": [
       "'file_path = \"./data/eng-cmn.txt\"\\nwith open(file_path, encoding=\\'utf-8\\') as file:\\n    lines = file.readlines()\\npairs = [[normalizeString(l).split(\\'\\t\\')[:2]] for l in lines]\\ncn = []\\neng = []\\nfor p in pairs:\\n    p=np.array(p)\\n    eng.append([p[0,0]])\\n    cn.append([p[0,1]])'"
      ]
     },
     "execution_count": 8,
     "metadata": {},
     "output_type": "execute_result"
    }
   ],
   "source": [
    "'''file_path = \"./data/eng-cmn.txt\"\n",
    "with open(file_path, encoding='utf-8') as file:\n",
    "    lines = file.readlines()\n",
    "pairs = [[normalizeString(l).split('\\t')[:2]] for l in lines]\n",
    "cn = []\n",
    "eng = []\n",
    "for p in pairs:\n",
    "    p=np.array(p)\n",
    "    eng.append([p[0,0]])\n",
    "    cn.append([p[0,1]])'''"
   ]
  },
  {
   "cell_type": "markdown",
   "metadata": {},
   "source": [
    "# The Encoder"
   ]
  },
  {
   "cell_type": "code",
   "execution_count": 9,
   "metadata": {
    "ExecuteTime": {
     "end_time": "2020-11-24T07:29:37.968175Z",
     "start_time": "2020-11-24T07:29:37.962191Z"
    }
   },
   "outputs": [],
   "source": [
    "class EncoderRNN(nn.Module):\n",
    "    def __init__(self, input_size, hidden_size):\n",
    "        super(EncoderRNN, self).__init__()\n",
    "        self.hidden_size = hidden_size\n",
    "\n",
    "        self.embedding = nn.Embedding(input_size, hidden_size)\n",
    "        self.gru = nn.GRU(hidden_size, hidden_size)\n",
    "\n",
    "    def forward(self, input, hidden):\n",
    "        embedded = self.embedding(input).view(1, 1, -1)\n",
    "        output = embedded\n",
    "        output, hidden = self.gru(output, hidden)\n",
    "        return output, hidden\n",
    "\n",
    "    def initHidden(self):\n",
    "        return torch.zeros(1, 1, self.hidden_size, device=device)"
   ]
  },
  {
   "cell_type": "markdown",
   "metadata": {},
   "source": [
    "# Attention Decoder"
   ]
  },
  {
   "cell_type": "code",
   "execution_count": 10,
   "metadata": {
    "ExecuteTime": {
     "end_time": "2020-11-24T07:29:39.154516Z",
     "start_time": "2020-11-24T07:29:39.144529Z"
    }
   },
   "outputs": [],
   "source": [
    "class AttnDecoderRNN(nn.Module):\n",
    "    def __init__(self, hidden_size, output_size, dropout_p=0.1, max_length=MAX_LENGTH):\n",
    "        super(AttnDecoderRNN, self).__init__()\n",
    "        self.hidden_size = hidden_size\n",
    "        self.output_size = output_size\n",
    "        self.dropout_p = dropout_p\n",
    "        self.max_length = max_length\n",
    "\n",
    "        self.embedding = nn.Embedding(self.output_size, self.hidden_size)\n",
    "        self.attn = nn.Linear(self.hidden_size * 2, self.max_length)\n",
    "        self.attn_combine = nn.Linear(self.hidden_size * 2, self.hidden_size)\n",
    "        self.dropout = nn.Dropout(self.dropout_p)\n",
    "        self.gru = nn.GRU(self.hidden_size, self.hidden_size)\n",
    "        self.out = nn.Linear(self.hidden_size, self.output_size)\n",
    "\n",
    "    def forward(self, input, hidden, encoder_outputs):\n",
    "        embedded = self.embedding(input).view(1, 1, -1)\n",
    "        embedded = self.dropout(embedded)\n",
    "\n",
    "        attn_weights = F.softmax(\n",
    "            self.attn(torch.cat((embedded[0], hidden[0]), 1)), dim=1)\n",
    "        attn_applied = torch.bmm(attn_weights.unsqueeze(0),\n",
    "                                 encoder_outputs.unsqueeze(0))\n",
    "\n",
    "        output = torch.cat((embedded[0], attn_applied[0]), 1)\n",
    "        output = self.attn_combine(output).unsqueeze(0)\n",
    "\n",
    "        output = F.relu(output)\n",
    "        output, hidden = self.gru(output, hidden)\n",
    "\n",
    "        output = F.log_softmax(self.out(output[0]), dim=1)\n",
    "        return output, hidden, attn_weights\n",
    "\n",
    "    def initHidden(self):\n",
    "        return torch.zeros(1, 1, self.hidden_size, device=device)"
   ]
  },
  {
   "cell_type": "markdown",
   "metadata": {},
   "source": [
    "# Preparing Training Data"
   ]
  },
  {
   "cell_type": "code",
   "execution_count": 11,
   "metadata": {
    "ExecuteTime": {
     "end_time": "2020-11-24T07:29:40.250525Z",
     "start_time": "2020-11-24T07:29:40.244540Z"
    }
   },
   "outputs": [],
   "source": [
    "def indexesFromSentence(lang, sentence):\n",
    "    return [lang.word2index[word] for word in sentence.split(' ')]\n",
    "\n",
    "\n",
    "def tensorFromSentence(lang, sentence):\n",
    "    indexes = indexesFromSentence(lang, sentence)\n",
    "    indexes.append(EOS_token)\n",
    "    return torch.tensor(indexes, dtype=torch.long, device=device).view(-1, 1)\n",
    "\n",
    "\n",
    "def tensorsFromPair(pair):\n",
    "    input_tensor = tensorFromSentence(input_lang, pair[0])\n",
    "    target_tensor = tensorFromSentence(output_lang, pair[1])\n",
    "    return (input_tensor, target_tensor)"
   ]
  },
  {
   "cell_type": "markdown",
   "metadata": {},
   "source": [
    "# Training the model"
   ]
  },
  {
   "cell_type": "code",
   "execution_count": 12,
   "metadata": {
    "ExecuteTime": {
     "end_time": "2020-11-24T07:29:44.321737Z",
     "start_time": "2020-11-24T07:29:44.312722Z"
    }
   },
   "outputs": [],
   "source": [
    "teacher_forcing_ratio = 0.5\n",
    "\n",
    "\n",
    "def train(input_tensor, target_tensor, encoder, decoder, encoder_optimizer, decoder_optimizer, criterion, max_length=MAX_LENGTH):\n",
    "    encoder_hidden = encoder.initHidden()\n",
    "\n",
    "    encoder_optimizer.zero_grad()\n",
    "    decoder_optimizer.zero_grad()\n",
    "\n",
    "    input_length = input_tensor.size(0)\n",
    "    target_length = target_tensor.size(0)\n",
    "\n",
    "    encoder_outputs = torch.zeros(max_length, encoder.hidden_size, device=device)\n",
    "\n",
    "    loss = 0\n",
    "\n",
    "    for ei in range(input_length):\n",
    "        encoder_output, encoder_hidden = encoder(\n",
    "            input_tensor[ei], encoder_hidden)\n",
    "        encoder_outputs[ei] = encoder_output[0, 0]\n",
    "\n",
    "    decoder_input = torch.tensor([[SOS_token]], device=device)\n",
    "\n",
    "    decoder_hidden = encoder_hidden\n",
    "\n",
    "    use_teacher_forcing = True if random.random() < teacher_forcing_ratio else False\n",
    "\n",
    "    if use_teacher_forcing:\n",
    "        # Teacher forcing: Feed the target as the next input\n",
    "        for di in range(target_length):\n",
    "            decoder_output, decoder_hidden, decoder_attention = decoder(\n",
    "                decoder_input, decoder_hidden, encoder_outputs)\n",
    "            loss += criterion(decoder_output, target_tensor[di])\n",
    "            decoder_input = target_tensor[di]  # Teacher forcing\n",
    "\n",
    "    else:\n",
    "        # Without teacher forcing: use its own predictions as the next input\n",
    "        for di in range(target_length):\n",
    "            decoder_output, decoder_hidden, decoder_attention = decoder(\n",
    "                decoder_input, decoder_hidden, encoder_outputs)\n",
    "            topv, topi = decoder_output.topk(1)\n",
    "            decoder_input = topi.squeeze().detach()  # detach from history as input\n",
    "\n",
    "            loss += criterion(decoder_output, target_tensor[di])\n",
    "            if decoder_input.item() == EOS_token:\n",
    "                break\n",
    "\n",
    "    loss.backward()\n",
    "\n",
    "    encoder_optimizer.step()\n",
    "    decoder_optimizer.step()\n",
    "\n",
    "    return loss.item() / target_length"
   ]
  },
  {
   "cell_type": "code",
   "execution_count": 13,
   "metadata": {
    "ExecuteTime": {
     "end_time": "2020-11-24T07:29:47.066303Z",
     "start_time": "2020-11-24T07:29:47.059322Z"
    }
   },
   "outputs": [],
   "source": [
    "#This is a helper function to print time elapsed and estimated time remaining given the current time and progress %.\n",
    "\n",
    "import time\n",
    "import math\n",
    "\n",
    "\n",
    "def asMinutes(s):\n",
    "    m = math.floor(s / 60)\n",
    "    s -= m * 60\n",
    "    return '%dm %ds' % (m, s)\n",
    "\n",
    "\n",
    "def timeSince(since, percent):\n",
    "    now = time.time()\n",
    "    s = now - since\n",
    "    es = s / (percent)\n",
    "    rs = es - s\n",
    "    return '%s (- %s)' % (asMinutes(s), asMinutes(rs))"
   ]
  },
  {
   "cell_type": "code",
   "execution_count": 14,
   "metadata": {
    "ExecuteTime": {
     "end_time": "2020-11-24T07:29:48.490965Z",
     "start_time": "2020-11-24T07:29:48.482986Z"
    }
   },
   "outputs": [],
   "source": [
    "def trainIters(encoder, decoder, n_iters, print_every=1000, plot_every=100, learning_rate=0.01):\n",
    "    start = time.time()\n",
    "    plot_losses = []\n",
    "    print_loss_total = 0  # Reset every print_every\n",
    "    plot_loss_total = 0  # Reset every plot_every\n",
    "\n",
    "    encoder_optimizer = optim.SGD(encoder.parameters(), lr=learning_rate)\n",
    "    decoder_optimizer = optim.SGD(decoder.parameters(), lr=learning_rate)\n",
    "    training_pairs = [tensorsFromPair(random.choice(pairs))\n",
    "                      for i in range(n_iters)]\n",
    "    criterion = nn.NLLLoss()\n",
    "\n",
    "    for iter in range(1, n_iters + 1):\n",
    "        training_pair = training_pairs[iter - 1]\n",
    "        input_tensor = training_pair[0]\n",
    "        target_tensor = training_pair[1]\n",
    "\n",
    "        loss = train(input_tensor, target_tensor, encoder,\n",
    "                     decoder, encoder_optimizer, decoder_optimizer, criterion)\n",
    "        print_loss_total += loss\n",
    "        plot_loss_total += loss\n",
    "\n",
    "        if iter % print_every == 0:\n",
    "            print_loss_avg = print_loss_total / print_every\n",
    "            print_loss_total = 0\n",
    "            print('%s (%d %d%%) %.4f' % (timeSince(start, iter / n_iters),\n",
    "                                         iter, iter / n_iters * 100, print_loss_avg))\n",
    "\n",
    "        if iter % plot_every == 0:\n",
    "            plot_loss_avg = plot_loss_total / plot_every\n",
    "            plot_losses.append(plot_loss_avg)\n",
    "            plot_loss_total = 0\n",
    "\n",
    "    showPlot(plot_losses)\n"
   ]
  },
  {
   "cell_type": "markdown",
   "metadata": {},
   "source": [
    "# Plotting results"
   ]
  },
  {
   "cell_type": "code",
   "execution_count": 15,
   "metadata": {
    "ExecuteTime": {
     "end_time": "2020-11-24T07:29:49.899602Z",
     "start_time": "2020-11-24T07:29:49.894616Z"
    }
   },
   "outputs": [],
   "source": [
    "import matplotlib.pyplot as plt\n",
    "import matplotlib.ticker as ticker\n",
    "import numpy as np\n",
    "\n",
    "\n",
    "def showPlot(points):\n",
    "    plt.figure()\n",
    "    fig, ax = plt.subplots()\n",
    "    # this locator puts ticks at regular intervals\n",
    "    loc = ticker.MultipleLocator(base=0.2)\n",
    "    ax.yaxis.set_major_locator(loc)\n",
    "    plt.plot(points)\n",
    "    plt.show()"
   ]
  },
  {
   "cell_type": "markdown",
   "metadata": {
    "ExecuteTime": {
     "end_time": "2020-11-10T01:58:52.080280Z",
     "start_time": "2020-11-10T01:58:52.072221Z"
    }
   },
   "source": [
    "# Evaluation"
   ]
  },
  {
   "cell_type": "code",
   "execution_count": 16,
   "metadata": {
    "ExecuteTime": {
     "end_time": "2020-11-24T07:29:51.101953Z",
     "start_time": "2020-11-24T07:29:51.092977Z"
    }
   },
   "outputs": [],
   "source": [
    "def evaluate(encoder, decoder, sentence, max_length=MAX_LENGTH):\n",
    "    with torch.no_grad():\n",
    "        input_tensor = tensorFromSentence(input_lang, sentence)\n",
    "        input_length = input_tensor.size()[0]\n",
    "        encoder_hidden = encoder.initHidden()\n",
    "\n",
    "        encoder_outputs = torch.zeros(max_length, encoder.hidden_size, device=device)\n",
    "\n",
    "        for ei in range(input_length):\n",
    "            encoder_output, encoder_hidden = encoder(input_tensor[ei],\n",
    "                                                     encoder_hidden)\n",
    "            encoder_outputs[ei] += encoder_output[0, 0]\n",
    "\n",
    "        decoder_input = torch.tensor([[SOS_token]], device=device)  # SOS\n",
    "\n",
    "        decoder_hidden = encoder_hidden\n",
    "\n",
    "        decoded_words = []\n",
    "        decoder_attentions = torch.zeros(max_length, max_length)\n",
    "\n",
    "        for di in range(max_length):\n",
    "            decoder_output, decoder_hidden, decoder_attention = decoder(\n",
    "                decoder_input, decoder_hidden, encoder_outputs)\n",
    "            decoder_attentions[di] = decoder_attention.data\n",
    "            topv, topi = decoder_output.data.topk(1)\n",
    "            if topi.item() == EOS_token:\n",
    "                decoded_words.append('<EOS>')\n",
    "                break\n",
    "            else:\n",
    "                decoded_words.append(output_lang.index2word[topi.item()])\n",
    "\n",
    "            decoder_input = topi.squeeze().detach()\n",
    "\n",
    "        return decoded_words, decoder_attentions[:di + 1]"
   ]
  },
  {
   "cell_type": "code",
   "execution_count": 17,
   "metadata": {
    "ExecuteTime": {
     "end_time": "2020-11-24T12:55:58.170173Z",
     "start_time": "2020-11-24T12:55:58.163192Z"
    }
   },
   "outputs": [],
   "source": [
    "def evaluateRandomly(encoder, decoder, n=100):\n",
    "    sum_scores = 0\n",
    "    for i in range(n):\n",
    "        pair = random.choice(pairs)\n",
    "        print('>', pair[0])\n",
    "        print('=', pair[1])\n",
    "        output_words, attentions = evaluate(encoder, decoder, pair[0])\n",
    "        output_sentence = ' '.join(output_words)\n",
    "        print('<', output_sentence)\n",
    "        print('')\n",
    "        w = []\n",
    "        words = pair[1].strip(' ').split(' ')\n",
    "        words.append('<EOS>')\n",
    "        w.append(words)\n",
    "        bleu_score = sentence_bleu(w, output_words)\n",
    "        sum_scores += bleu_score\n",
    "    print('The bleu_score is ', sum_scores/n)"
   ]
  },
  {
   "cell_type": "markdown",
   "metadata": {},
   "source": [
    "# Training and Evaluating"
   ]
  },
  {
   "cell_type": "code",
   "execution_count": 18,
   "metadata": {
    "ExecuteTime": {
     "end_time": "2020-11-24T08:46:25.977446Z",
     "start_time": "2020-11-24T07:29:53.737176Z"
    }
   },
   "outputs": [
    {
     "name": "stdout",
     "output_type": "stream",
     "text": [
      "1m 35s (- 22m 14s) (5000 6%) 2.2885\n",
      "3m 11s (- 20m 41s) (10000 13%) 0.5762\n",
      "4m 46s (- 19m 7s) (15000 20%) 0.0804\n",
      "6m 22s (- 17m 32s) (20000 26%) 0.0538\n",
      "8m 0s (- 16m 0s) (25000 33%) 0.0439\n",
      "9m 36s (- 14m 24s) (30000 40%) 0.0394\n",
      "11m 12s (- 12m 48s) (35000 46%) 0.0386\n",
      "13m 41s (- 11m 58s) (40000 53%) 0.0333\n",
      "15m 48s (- 10m 32s) (45000 60%) 0.0326\n",
      "17m 36s (- 8m 48s) (50000 66%) 0.0380\n",
      "20m 38s (- 7m 30s) (55000 73%) 0.0381\n",
      "22m 46s (- 5m 41s) (60000 80%) 0.0330\n",
      "24m 34s (- 3m 46s) (65000 86%) 0.0344\n",
      "27m 24s (- 1m 57s) (70000 93%) 0.0317\n",
      "29m 14s (- 0m 0s) (75000 100%) 0.0378\n"
     ]
    },
    {
     "data": {
      "text/plain": [
       "<Figure size 640x480 with 0 Axes>"
      ]
     },
     "metadata": {},
     "output_type": "display_data"
    },
    {
     "data": {
      "image/png": "[encoded data removed]",
      "text/plain": [
       "<Figure size 640x480 with 1 Axes>"
      ]
     },
     "metadata": {},
     "output_type": "display_data"
    }
   ],
   "source": [
    "hidden_size = 256\n",
    "encoder1 = EncoderRNN(input_lang.n_words, hidden_size).to(device)\n",
    "attn_decoder1 = AttnDecoderRNN(hidden_size, output_lang.n_words, dropout_p=0.1).to(device)\n",
    "\n",
    "trainIters(encoder1, attn_decoder1, 75000, print_every=5000)"
   ]
  },
  {
   "cell_type": "code",
   "execution_count": 19,
   "metadata": {
    "ExecuteTime": {
     "end_time": "2020-11-24T13:15:02.009117Z",
     "start_time": "2020-11-24T13:14:59.780380Z"
    },
    "scrolled": true
   },
   "outputs": [
    {
     "name": "stdout",
     "output_type": "stream",
     "text": [
      "> 我 是 匈 牙 利 人 \n",
      "= i am hungarian\n",
      "< i am hungarian <EOS>\n",
      "\n",
      "> 我 是 个 男 人 \n",
      "= i am a man\n",
      "< i am a man <EOS>\n",
      "\n",
      "> 你 和 我 一 样 高 \n",
      "= you are as tall as i am\n",
      "< you are as tall as i am <EOS>\n",
      "\n",
      "> 他 獨 自 一 人 \n",
      "= he is alone\n",
      "< he is alone <EOS>\n",
      "\n",
      "> 我 是 匈 牙 利 人 \n",
      "= i am hungarian\n",
      "< i am hungarian <EOS>\n",
      "\n",
      "> 他 的 化 学 很 差 \n",
      "= he is poor at chemistry\n",
      "< he is poor at chemistry <EOS>\n",
      "\n",
      "> 我 指 望 你 了 \n",
      "= i am counting on you\n",
      "< i am counting on you <EOS>\n",
      "\n",
      "> 他 很 凶 \n",
      "= he is mean\n",
      "< he is mean <EOS>\n",
      "\n",
      "> 她 沉 迷 于 摇 滚 乐 \n",
      "= she is absorbed in rock music\n",
      "< she is absorbed in rock music <EOS>\n",
      "\n",
      "> 他 和 她 一 样 高 \n",
      "= he is as tall as her\n",
      "< he is as tall as her <EOS>\n",
      "\n",
      "> 我 在 修 洗 衣 機 \n",
      "= i am repairing the washing machine\n",
      "< i am repairing the washing machine <EOS>\n",
      "\n",
      "> 他 怕 坐 飞 机 \n",
      "= he is afraid to fly in an airplane\n",
      "< he is afraid to fly in an airplane <EOS>\n",
      "\n",
      "> 他 现 在 卧 床 不 起 \n",
      "= he is confined to bed now\n",
      "< he is confined to bed now <EOS>\n",
      "\n",
      "> 我 是 个 老 实 人 \n",
      "= i am an honest person\n",
      "< i am an honest person <EOS>\n",
      "\n",
      "> 她 將 去 立 山 \n",
      "= she is going to mount tate\n",
      "< she is going to mount tate <EOS>\n",
      "\n",
      "> 我 將 主 修 法 文 \n",
      "= i am going to major in french\n",
      "< i am going to major in french <EOS>\n",
      "\n",
      "> 我 喜 歡 車 \n",
      "= i am fond of cars\n",
      "< i am fond of cars <EOS>\n",
      "\n",
      "> 他 是 個 糟 糕 的 司 機 \n",
      "= he is a bad driver\n",
      "< he is a bad driver <EOS>\n",
      "\n",
      "> 他 和 她 一 样 高 \n",
      "= he is as tall as her\n",
      "< he is as tall as her <EOS>\n",
      "\n",
      "> 你 是 一 個 好 人 \n",
      "= you are a good person\n",
      "< you are a good person <EOS>\n",
      "\n",
      "> 他 非 常 吝 啬 \n",
      "= he is very stingy with his money\n",
      "< he is very stingy with his money <EOS>\n",
      "\n",
      "> 他 將 競 選 市 長 \n",
      "= he is going to run for mayor\n",
      "< he is going to run for mayor <EOS>\n",
      "\n",
      "> 我 在 班 里 是 最 高 的 \n",
      "= i am the tallest in our class\n",
      "< i am the tallest in our class <EOS>\n",
      "\n",
      "> 我 今 天 忙 \n",
      "= i am busy today\n",
      "< i am busy today <EOS>\n",
      "\n",
      "> 我 生 病 了 \n",
      "= i am sick\n",
      "< i am sick <EOS>\n",
      "\n",
      "> 他 跟 您 年 纪 差 不 多 \n",
      "= he is about your age\n",
      "< he is about your age <EOS>\n",
      "\n",
      "> 他 浑 身 是 债 \n",
      "= he is up to his ears in debt\n",
      "< he is up to his ears in debt <EOS>\n",
      "\n",
      "> 我 学 两 种 外 语 \n",
      "= i am learning two foreign languages\n",
      "< i am learning two foreign languages <EOS>\n",
      "\n",
      "> 他 现 在 卧 床 不 起 \n",
      "= he is confined to bed now\n",
      "< he is confined to bed now <EOS>\n",
      "\n",
      "> 我 怀 疑 他 是 否 会 来 \n",
      "= i am doubtful whether he will come\n",
      "< i am doubtful whether he will come <EOS>\n",
      "\n",
      "> 他 是 医 生 来 的 \n",
      "= he is a doctor\n",
      "< he is a doctor <EOS>\n",
      "\n",
      "> 他 不 是 傻 子 \n",
      "= he is not stupid\n",
      "< he is no fool <EOS>\n",
      "\n",
      "> 我 六 英 尺 高 \n",
      "= i am six feet tall\n",
      "< i am six feet tall <EOS>\n",
      "\n",
      "> 她 是 女 教 师 \n",
      "= she is a teacher\n",
      "< she is a teacher <EOS>\n",
      "\n",
      "> 他 夠 開 車 的 年 紀 了 \n",
      "= he is old enough to drive\n",
      "< he is old enough to drive <EOS>\n",
      "\n",
      "> 他 是 個 糟 糕 的 司 機 \n",
      "= he is a bad driver\n",
      "< he is a bad driver <EOS>\n",
      "\n",
      "> 你 很 好 \n",
      "= you are good\n",
      "< you are good <EOS>\n",
      "\n",
      "> 他 不 是 個 高 中 生 \n",
      "= he is not a high school student\n",
      "< he is not a high school student <EOS>\n",
      "\n",
      "> 她 是 医 生 \n",
      "= she is a doctor\n",
      "< she is a doctor <EOS>\n",
      "\n",
      "> 你 今 天 早 上 非 常 早 \n",
      "= you are very early this morning\n",
      "< you are very early this morning <EOS>\n",
      "\n",
      "> 她 很 安 静 \n",
      "= she is quiet\n",
      "< she is quiet <EOS>\n",
      "\n",
      "> 我 很 关 心 他 的 健 康 \n",
      "= i am very concerned about his health\n",
      "< i am very concerned about his health <EOS>\n",
      "\n",
      "> 我 不 是 個 老 師 \n",
      "= i am not a teacher\n"
     ]
    },
    {
     "name": "stderr",
     "output_type": "stream",
     "text": [
      "E:\\Anaconda3\\envs\\zppytorch\\lib\\site-packages\\nltk\\translate\\bleu_score.py:552: UserWarning: \n",
      "The hypothesis contains 0 counts of 3-gram overlaps.\n",
      "Therefore the BLEU score evaluates to 0, independently of\n",
      "how many N-gram overlaps of lower order it contains.\n",
      "Consider using lower n-gram order or use SmoothingFunction()\n",
      "  warnings.warn(_msg)\n",
      "E:\\Anaconda3\\envs\\zppytorch\\lib\\site-packages\\nltk\\translate\\bleu_score.py:552: UserWarning: \n",
      "The hypothesis contains 0 counts of 4-gram overlaps.\n",
      "Therefore the BLEU score evaluates to 0, independently of\n",
      "how many N-gram overlaps of lower order it contains.\n",
      "Consider using lower n-gram order or use SmoothingFunction()\n",
      "  warnings.warn(_msg)\n"
     ]
    },
    {
     "name": "stdout",
     "output_type": "stream",
     "text": [
      "< i am not a teacher <EOS>\n",
      "\n",
      "> 你 并 不 完 全 错 误 \n",
      "= you are not at all wrong\n",
      "< you are not at all wrong <EOS>\n",
      "\n",
      "> 他 們 是 高 中 生 \n",
      "= they are high school students\n",
      "< they are high school students <EOS>\n",
      "\n",
      "> 您 不 是 个 懦 夫 \n",
      "= you are not a coward\n",
      "< you are not a coward <EOS>\n",
      "\n",
      "> 她 不 總 是 高 興 \n",
      "= she is not always happy\n",
      "< she is not always happy <EOS>\n",
      "\n",
      "> 他 没 疯 \n",
      "= he is no fool\n",
      "< he is no fool <EOS>\n",
      "\n",
      "> 我 对 英 语 感 兴 趣 \n",
      "= i am interested in english\n",
      "< i am interested in english <EOS>\n",
      "\n",
      "> 他 習 慣 早 起 \n",
      "= he is used to getting up early\n",
      "< he is used to getting up early <EOS>\n",
      "\n",
      "> 她 只 是 個 孩 子 \n",
      "= she is a mere child\n",
      "< she is only a child <EOS>\n",
      "\n",
      "> 我 們 是 好 朋 友 \n",
      "= we are good friends\n",
      "< we are good friends <EOS>\n",
      "\n",
      "> 他 痴 迷 于 音 乐 \n",
      "= he is mad about music\n",
      "< he is mad about music <EOS>\n",
      "\n",
      "> 我 只 是 去 散 散 步 \n",
      "= i am just going for a walk\n",
      "< i am just going for a walk <EOS>\n",
      "\n",
      "> 他 高 \n",
      "= he is tall\n",
      "< he is tall <EOS>\n",
      "\n",
      "> 你 没 受 到 邀 请 \n",
      "= you aren't invited\n",
      "< you aren't invited <EOS>\n",
      "\n",
      "> 他 的 化 学 很 差 \n",
      "= he is poor at chemistry\n",
      "< he is poor at chemistry <EOS>\n",
      "\n",
      "> 她 穿 着 白 色 的 衣 服 \n",
      "= she is dressed in white\n",
      "< she is dressed in white <EOS>\n",
      "\n",
      "> 你 在 撒 谎 \n",
      "= you are lying\n",
      "< you are lying <EOS>\n",
      "\n",
      "> 他 比 任 何 人 都 好 \n",
      "= he is better than anyone else\n",
      "< he is better than anyone else <EOS>\n",
      "\n",
      "> 她 坐 在 長 椅 上 \n",
      "= she is sitting on the bench\n",
      "< she is sitting on the bench <EOS>\n",
      "\n",
      "> 我 此 刻 正 忙 著 做 飯 \n",
      "= i am busy cooking at the moment\n",
      "< i am busy cooking at the moment <EOS>\n",
      "\n",
      "> 我 在 考 慮 出 國 \n",
      "= i am thinking of going abroad\n",
      "< i am thinking of going abroad <EOS>\n",
      "\n",
      "> 我 指 望 你 了 \n",
      "= i am counting on you\n",
      "< i am counting on you <EOS>\n",
      "\n",
      "> 他 有 几 分 像 学 者 \n",
      "= he is something of a scholar\n",
      "< he is something of a scholar <EOS>\n",
      "\n",
      "> 他 今 天 在 家 \n",
      "= he is at home today\n",
      "< he is at home today <EOS>\n",
      "\n",
      "> 我 太 忙 了 不 能 去 \n",
      "= i am too busy to go\n",
      "< i am too busy to go <EOS>\n",
      "\n",
      "> 我 在 修 洗 衣 機 \n",
      "= i am repairing the washing machine\n",
      "< i am repairing the washing machine <EOS>\n",
      "\n",
      "> 他 害 怕 蛇 \n",
      "= he is afraid of snakes\n",
      "< he is afraid of snakes <EOS>\n",
      "\n",
      "> 他 是 一 個 友 善 的 人 \n",
      "= he is a friendly person\n",
      "< he is a friendly person <EOS>\n",
      "\n",
      "> 我 是 札 幌 的 市 民 \n",
      "= i am a citizen of sapporo\n",
      "< i am a citizen of sapporo <EOS>\n",
      "\n",
      "> 我 是 个 新 生 \n",
      "= i am a new student\n",
      "< i am a new student <EOS>\n",
      "\n",
      "> 我 只 是 去 散 散 步 \n",
      "= i am just going for a walk\n",
      "< i am just going for a walk <EOS>\n",
      "\n",
      "> 我 的 右 眼 瞎 了 \n",
      "= i am blind in the right eye\n",
      "< i am blind in the right eye <EOS>\n",
      "\n",
      "> 他 是 一 名 高 中 學 生 \n",
      "= he is a student at a high school\n",
      "< he is a student at a high school <EOS>\n",
      "\n",
      "> 你 现 在 是 大 人 了 \n",
      "= you are now an adult\n",
      "< you are now an adult <EOS>\n",
      "\n",
      "> 我 怀 疑 他 是 否 会 来 \n",
      "= i am doubtful whether he will come\n",
      "< i am doubtful whether he will come <EOS>\n",
      "\n",
      "> 他 是 个 网 球 球 手 \n",
      "= he is a tennis player\n",
      "< he is a tennis player <EOS>\n",
      "\n",
      "> 他 不 信 教 \n",
      "= he is not religious\n",
      "< he is not religious <EOS>\n",
      "\n",
      "> 他 是 我 的 一 個 鄰 居 \n",
      "= he is one of my neighbors\n",
      "< he is one of my neighbors <EOS>\n",
      "\n",
      "> 他 们 肯 定 会 相 恋 的 \n",
      "= they are sure to fall in love\n",
      "< they are sure to fall in love <EOS>\n",
      "\n",
      "> 她 是 他 的 一 切 \n",
      "= she is everything to him\n",
      "< she is everything to him <EOS>\n",
      "\n",
      "> 我 今 天 忙 \n",
      "= i am busy today\n",
      "< i am busy today <EOS>\n",
      "\n",
      "> 他 还 在 这 儿 \n",
      "= he is still here\n",
      "< he is still here <EOS>\n",
      "\n",
      "> 我 迫 切 需 要 冷 饮 \n",
      "= i am dying for a cold drink\n",
      "< i am dying for a cold drink <EOS>\n",
      "\n",
      "> 我 等 你 把 作 業 做 完 \n",
      "= i am waiting for you to finish your homework\n",
      "< i am waiting for you to finish your homework <EOS>\n",
      "\n",
      "> 他 渴 望 去 那 里 \n",
      "= he is eager to go there\n",
      "< he is eager to go there <EOS>\n",
      "\n",
      "> 她 缺 乏 常 识 \n",
      "= she is lacking in common sense\n",
      "< she is lacking in common sense <EOS>\n",
      "\n",
      "> 我 只 是 去 散 散 步 \n",
      "= i am just going for a walk\n",
      "< i am just going for a walk <EOS>\n",
      "\n",
      "> 她 非 常 周 到 和 耐 心 \n",
      "= she is very thoughtful and patient\n",
      "< she is very thoughtful and patient <EOS>\n",
      "\n",
      "> 他 怕 那 只 狗 \n",
      "= he is afraid of the dog\n",
      "< he is afraid of the dog <EOS>\n",
      "\n",
      "> 我 會 開 車 \n",
      "= i am able to drive a car\n",
      "< i am able to drive a car <EOS>\n",
      "\n",
      "> 她 总 是 尝 试 新 事 物 \n",
      "= she is always trying new things\n",
      "< she is always trying new things <EOS>\n",
      "\n",
      "> 我 是 個 老 師 \n",
      "= i am a teacher\n",
      "< i am a teacher <EOS>\n",
      "\n",
      "> 她 很 安 静 \n",
      "= she is quiet\n",
      "< she is quiet <EOS>\n",
      "\n",
      "> 她 在 行 走 \n",
      "= she is walking\n",
      "< she is walking <EOS>\n",
      "\n",
      "> 他 非 常 怕 他 的 母 親 \n",
      "= he is very afraid of his mother\n",
      "< he is very afraid of his mother <EOS>\n",
      "\n",
      "> 我 們 身 處 核 能 時 代 \n",
      "= we are in the era of atomic energy\n",
      "< we are in the era of atomic energy <EOS>\n",
      "\n",
      "> 你 是 不 可 抗 拒 的 \n",
      "= you are irresistible\n",
      "< you are irresistible <EOS>\n",
      "\n",
      "> 他 痴 迷 于 音 乐 \n",
      "= he is mad about music\n",
      "< he is mad about music <EOS>\n",
      "\n",
      "The bleu_score is  0.98\n"
     ]
    }
   ],
   "source": [
    "evaluateRandomly(encoder1, attn_decoder1)"
   ]
  },
  {
   "cell_type": "code",
   "execution_count": 20,
   "metadata": {
    "ExecuteTime": {
     "end_time": "2020-11-24T12:02:10.044338Z",
     "start_time": "2020-11-24T12:02:10.037358Z"
    }
   },
   "outputs": [],
   "source": [
    "plt.rcParams['font.sans-serif'] = ['KaiTi'] # 指定默认字体\n",
    "plt.rcParams['axes.unicode_minus'] = False # 解决保存图像是负号'-'显示为方块的问题"
   ]
  },
  {
   "cell_type": "code",
   "execution_count": 21,
   "metadata": {
    "ExecuteTime": {
     "end_time": "2020-11-24T12:02:12.176286Z",
     "start_time": "2020-11-24T12:02:11.702621Z"
    }
   },
   "outputs": [
    {
     "name": "stdout",
     "output_type": "stream",
     "text": [
      "['you', 'are', 'a', 'professor', '<EOS>']\n"
     ]
    },
    {
     "data": {
      "image/png": "[encoded data removed]",
      "text/plain": [
       "<Figure size 960x480 with 1 Axes>"
      ]
     },
     "metadata": {},
     "output_type": "display_data"
    }
   ],
   "source": [
    "output_words, attentions = evaluate(\n",
    "    encoder1, attn_decoder1, \"你 只 是 玩\")\n",
    "print(output_words)\n",
    "plt.matshow(attentions.numpy())\n",
    "plt.show()"
   ]
  },
  {
   "cell_type": "code",
   "execution_count": 22,
   "metadata": {
    "ExecuteTime": {
     "end_time": "2020-11-24T12:02:16.320047Z",
     "start_time": "2020-11-24T12:02:15.354583Z"
    },
    "scrolled": false
   },
   "outputs": [
    {
     "name": "stdout",
     "output_type": "stream",
     "text": [
      "input = 他 和 他 的 邻 居 相 处 \n",
      "output = he is getting along with his neighborhood <EOS>\n"
     ]
    },
    {
     "name": "stderr",
     "output_type": "stream",
     "text": [
      "C:\\Users\\Administrator\\AppData\\Local\\Temp\\ipykernel_9520\\1190932975.py:9: UserWarning: FixedFormatter should only be used together with FixedLocator\n",
      "  ax.set_xticklabels([''] + input_sentence.split(' ') +\n",
      "C:\\Users\\Administrator\\AppData\\Local\\Temp\\ipykernel_9520\\1190932975.py:11: UserWarning: FixedFormatter should only be used together with FixedLocator\n",
      "  ax.set_yticklabels([''] + output_words)\n"
     ]
    },
    {
     "data": {
      "image/png": "[encoded data removed]",
      "text/plain": [
       "<Figure size 640x480 with 2 Axes>"
      ]
     },
     "metadata": {},
     "output_type": "display_data"
    },
    {
     "name": "stdout",
     "output_type": "stream",
     "text": [
      "input = 我 肯 定 他 会 成 功 的 \n",
      "output = i am sure of his success <EOS>\n"
     ]
    },
    {
     "data": {
      "image/png": "[encoded data removed]",
      "text/plain": [
       "<Figure size 640x480 with 2 Axes>"
      ]
     },
     "metadata": {},
     "output_type": "display_data"
    },
    {
     "name": "stdout",
     "output_type": "stream",
     "text": [
      "input = 他 總 是 忘 記 事 情\n",
      "output = he is always forgetting things <EOS>\n"
     ]
    },
    {
     "data": {
      "image/png": "[encoded data removed]",
      "text/plain": [
       "<Figure size 640x480 with 2 Axes>"
      ]
     },
     "metadata": {},
     "output_type": "display_data"
    },
    {
     "name": "stdout",
     "output_type": "stream",
     "text": [
      "input = 我 们 非 常 需 要 食 物 \n",
      "output = we are badly in need of food <EOS>\n"
     ]
    },
    {
     "data": {
      "image/png": "[encoded data removed]",
      "text/plain": [
       "<Figure size 640x480 with 2 Axes>"
      ]
     },
     "metadata": {},
     "output_type": "display_data"
    }
   ],
   "source": [
    "def showAttention(input_sentence, output_words, attentions):\n",
    "    # Set up figure with colorbar\n",
    "    fig = plt.figure()\n",
    "    ax = fig.add_subplot(111)\n",
    "    cax = ax.matshow(attentions.numpy(), cmap='bone')\n",
    "    fig.colorbar(cax)\n",
    "\n",
    "    # Set up axes\n",
    "    ax.set_xticklabels([''] + input_sentence.split(' ') +\n",
    "                       ['<EOS>'], rotation=90)\n",
    "    ax.set_yticklabels([''] + output_words)\n",
    "\n",
    "    # Show label at every tick\n",
    "    ax.xaxis.set_major_locator(ticker.MultipleLocator(1))\n",
    "    ax.yaxis.set_major_locator(ticker.MultipleLocator(1))\n",
    "\n",
    "    plt.show()\n",
    "\n",
    "\n",
    "def evaluateAndShowAttention(input_sentence):\n",
    "    output_words, attentions = evaluate(\n",
    "        encoder1, attn_decoder1, input_sentence)\n",
    "    print('input =', input_sentence)\n",
    "    print('output =', ' '.join(output_words))\n",
    "    showAttention(input_sentence, output_words, attentions)\n",
    "\n",
    "\n",
    "evaluateAndShowAttention(\"他 和 他 的 邻 居 相 处 \")\n",
    "\n",
    "evaluateAndShowAttention(\"我 肯 定 他 会 成 功 的 \")\n",
    "\n",
    "evaluateAndShowAttention(\"他 總 是 忘 記 事 情\")\n",
    "\n",
    "evaluateAndShowAttention(\"我 们 非 常 需 要 食 物 \")"
   ]
  }
 ],
 "metadata": {
  "kernelspec": {
   "display_name": "Python 3 (ipykernel)",
   "language": "python",
   "name": "python3"
  },
  "language_info": {
   "codemirror_mode": {
    "name": "ipython",
    "version": 3
   },
   "file_extension": ".py",
   "mimetype": "text/x-python",
   "name": "python",
   "nbconvert_exporter": "python",
   "pygments_lexer": "ipython3",
   "version": "3.9.12"
  },
  "varInspector": {
   "cols": {
    "lenName": 16,
    "lenType": 16,
    "lenVar": 40
   },
   "kernels_config": {
    "python": {
     "delete_cmd_postfix": "",
     "delete_cmd_prefix": "del ",
     "library": "var_list.py",
     "varRefreshCmd": "print(var_dic_list())"
    },
    "r": {
     "delete_cmd_postfix": ") ",
     "delete_cmd_prefix": "rm(",
     "library": "var_list.r",
     "varRefreshCmd": "cat(var_dic_list()) "
    }
   },
   "types_to_exclude": [
    "module",
    "function",
    "builtin_function_or_method",
    "instance",
    "_Feature"
   ],
   "window_display": false
  }
 },
 "nbformat": 4,
 "nbformat_minor": 4
}
